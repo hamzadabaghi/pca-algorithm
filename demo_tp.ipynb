{
 "cells": [
  {
   "cell_type": "markdown",
   "id": "friendly-apollo",
   "metadata": {},
   "source": [
    "<h4 style=\"text-align:left;color:#5c5828\">Authors </h4>\n",
    "<h4 style=\"text-align:left;color:#5c5828\">-------------------------------------------</h4>\n",
    "<h5 style=\"text-align:left;color:#2d1d40\">@ Hamza Dabaghi</h6>\n",
    "<h5 style=\"text-align:left;color:#2d1d40\">@ Firass Mohammed</h6>\n",
    "<h5 style=\"text-align:left;color:#2d1d40\">@ Yasmine Lhore</h6>\n",
    "<h4 style=\"text-align:left;color:#5c5828\">-------------------------------------------</h4>\n",
    "\n",
    "<br/><br/>"
   ]
  },
  {
   "cell_type": "markdown",
   "id": "active-colonial",
   "metadata": {},
   "source": [
    "<h2 style=\"text-align:center;color:#fca103\">Importation de Librairies</h2><br/>"
   ]
  },
  {
   "cell_type": "code",
   "execution_count": 1,
   "id": "welcome-trance",
   "metadata": {
    "scrolled": true
   },
   "outputs": [],
   "source": [
    "\n",
    "# pandas : panel data , pour une facile manipulation des données.\n",
    "import pandas as pd \n",
    "\n",
    "# numpy : numerical python extensions , pour la manipulation de tableaux et les opérations mathématiques.\n",
    "import numpy as np\n",
    "\n",
    "# decomposition : Package pour l'analyse en composantes principales de scikit learn.\n",
    "from sklearn.decomposition import PCA\n",
    "\n",
    "# preprocessing : package pour centrer et normaliser les données avant d'effectuer l'ACP.\n",
    "from sklearn.preprocessing import StandardScaler\n",
    "\n",
    "# matplotlib : pour dessiner des graphiques, des tracés ...\n",
    "import matplotlib.pyplot as plt\n"
   ]
  },
  {
   "cell_type": "markdown",
   "id": "defensive-struggle",
   "metadata": {},
   "source": [
    "<h2 style=\"text-align:center;color:#fca103\">Importation de données</h2><br/>"
   ]
  },
  {
   "cell_type": "code",
   "execution_count": 2,
   "id": "universal-overall",
   "metadata": {
    "scrolled": true
   },
   "outputs": [
    {
     "name": "stdout",
     "output_type": "stream",
     "text": [
      "<class 'pandas.core.frame.DataFrame'>\n",
      "RangeIndex: 51 entries, 0 to 50\n",
      "Data columns (total 9 columns):\n",
      " #   Column                               Non-Null Count  Dtype  \n",
      "---  ------                               --------------  -----  \n",
      " 0   Etat                                 51 non-null     object \n",
      " 1   Population totale                    51 non-null     int64  \n",
      " 2   Immigration domestique nette         51 non-null     float64\n",
      " 3   Américains migrants avec l'étranger  51 non-null     float64\n",
      " 4   Immigration internationale nette     51 non-null     float64\n",
      " 5   Taux de naissance                    51 non-null     float64\n",
      " 6   Taux de mortalité                    51 non-null     float64\n",
      " 7   Pop < 65 ans                         51 non-null     float64\n",
      " 8   Pop > 65 ans                         51 non-null     float64\n",
      "dtypes: float64(7), int64(1), object(1)\n",
      "memory usage: 3.7+ KB\n"
     ]
    }
   ],
   "source": [
    "\n",
    "# importer les données de notre fichier dataset demo.\n",
    "demographic_data = pd.read_csv(\"./demo_dt.csv\")\n",
    "\n",
    "# informations sur les données\n",
    "demographic_data.info()\n"
   ]
  },
  {
   "cell_type": "markdown",
   "id": "smooth-little",
   "metadata": {},
   "source": [
    "<h2 style=\"text-align:center;color:#fca103\">Vérification</h2><br/>"
   ]
  },
  {
   "cell_type": "code",
   "execution_count": 3,
   "id": "victorian-print",
   "metadata": {
    "scrolled": true
   },
   "outputs": [
    {
     "name": "stdout",
     "output_type": "stream",
     "text": [
      "         Etat  Population totale  Immigration domestique nette  \\\n",
      "0     Alabama            4464356                         -1.78   \n",
      "1      Alaska             634892                         -1.72   \n",
      "2     Arizona            5307331                         14.25   \n",
      "3    Arkansas            2692090                          0.36   \n",
      "4  California           34501130                         -2.01   \n",
      "\n",
      "   Américains migrants avec l'étranger  Immigration internationale nette  \\\n",
      "0                                -0.02                              0.69   \n",
      "1                                -0.24                              2.09   \n",
      "2                                -0.03                              4.29   \n",
      "3                                -0.01                              1.07   \n",
      "4                                -0.04                              7.88   \n",
      "\n",
      "   Taux de naissance  Taux de mortalité  Pop < 65 ans  Pop > 65 ans  \n",
      "0              14.41              10.28        869.21        130.79  \n",
      "1              15.95               4.64        941.95         58.05  \n",
      "2              15.88               7.77        869.54        130.46  \n",
      "3              14.35              10.51        861.06        138.94  \n",
      "4              15.37               6.72        894.03        105.97  \n"
     ]
    }
   ],
   "source": [
    "\n",
    "# La méthode Head renvoie les 5 premières lignes de données\n",
    "print( demographic_data.head() )\n"
   ]
  },
  {
   "cell_type": "code",
   "execution_count": 4,
   "id": "aging-digest",
   "metadata": {
    "scrolled": true
   },
   "outputs": [
    {
     "name": "stdout",
     "output_type": "stream",
     "text": [
      "(51, 9)\n"
     ]
    }
   ],
   "source": [
    "\n",
    "# L'attribut shape renvoie les dimensions de notre demographic_data\n",
    "print( demographic_data.shape )\n",
    "\n",
    "# il y a 51 échantillons et 8 variables, (Etat : étiquette )\n"
   ]
  },
  {
   "cell_type": "markdown",
   "id": "labeled-liverpool",
   "metadata": {},
   "source": [
    "<h2 style=\"text-align:center;color:#fca103\">Prétraitement</h2><br/>"
   ]
  },
  {
   "cell_type": "code",
   "execution_count": 5,
   "id": "engaged-rachel",
   "metadata": {
    "scrolled": false
   },
   "outputs": [
    {
     "name": "stdout",
     "output_type": "stream",
     "text": [
      "            Population totale  Immigration domestique nette  \\\n",
      "Etat                                                          \n",
      "Alabama               4464356                         -1.78   \n",
      "Alaska                 634892                         -1.72   \n",
      "Arizona               5307331                         14.25   \n",
      "Arkansas              2692090                          0.36   \n",
      "California           34501130                         -2.01   \n",
      "\n",
      "            Américains migrants avec l'étranger  \\\n",
      "Etat                                              \n",
      "Alabama                                   -0.02   \n",
      "Alaska                                    -0.24   \n",
      "Arizona                                   -0.03   \n",
      "Arkansas                                  -0.01   \n",
      "California                                -0.04   \n",
      "\n",
      "            Immigration internationale nette  Taux de naissance  \\\n",
      "Etat                                                              \n",
      "Alabama                                 0.69              14.41   \n",
      "Alaska                                  2.09              15.95   \n",
      "Arizona                                 4.29              15.88   \n",
      "Arkansas                                1.07              14.35   \n",
      "California                              7.88              15.37   \n",
      "\n",
      "            Taux de mortalité  Pop < 65 ans  Pop > 65 ans  \n",
      "Etat                                                       \n",
      "Alabama                 10.28        869.21        130.79  \n",
      "Alaska                   4.64        941.95         58.05  \n",
      "Arizona                  7.77        869.54        130.46  \n",
      "Arkansas                10.51        861.06        138.94  \n",
      "California               6.72        894.03        105.97  \n"
     ]
    }
   ],
   "source": [
    "\n",
    "# séparation des variables non numériques\n",
    "\n",
    "\n",
    "# l'index pour les données , inplace(true): modifie le meme objet DataFrame sans créer un autre modifié.\n",
    "demographic_data.set_index('Etat', inplace=True)\n",
    "print(  demographic_data.head()  )\n"
   ]
  },
  {
   "cell_type": "markdown",
   "id": "diagnostic-florence",
   "metadata": {},
   "source": [
    "<h2 style=\"text-align:center;color:#fca103\">Normalisation</h2><br/>"
   ]
  },
  {
   "cell_type": "code",
   "execution_count": 6,
   "id": "pressing-partner",
   "metadata": {
    "scrolled": true
   },
   "outputs": [
    {
     "name": "stdout",
     "output_type": "stream",
     "text": [
      " moyenne :  0.0\n",
      " variance :  1.0\n"
     ]
    }
   ],
   "source": [
    "\n",
    "# normalisation et centrage des données\n",
    "# moyenne =0, variance=1, les échantillons doivent être des lignes sinon vous devez les transposer (demographic_data.T)\n",
    "\n",
    "scaled_demographic_data = StandardScaler().fit_transform(demographic_data)\n",
    "\n",
    "# round , 2 chiffres significatifs\n",
    "print (\" moyenne : \", np.round(scaled_demographic_data.mean(), 2))\n",
    "print (\" variance : \", np.round(scaled_demographic_data.std(), 2))\n"
   ]
  },
  {
   "cell_type": "markdown",
   "id": "generous-lecture",
   "metadata": {},
   "source": [
    "<h2 style=\"text-align:center;color:#fca103\">ACP</h2><br/>"
   ]
  },
  {
   "cell_type": "code",
   "execution_count": 7,
   "id": "rural-atlantic",
   "metadata": {
    "scrolled": true
   },
   "outputs": [],
   "source": [
    "\n",
    "# instanciation d'un objet ACP à entraîner avec notre jeu de données , nombre de composantes à garder : 3\n",
    "pca_var = PCA(n_components=3)\n",
    "pca=pca_var.fit_transform(scaled_demographic_data)\n"
   ]
  },
  {
   "cell_type": "code",
   "execution_count": 8,
   "id": "simplified-thread",
   "metadata": {
    "scrolled": true
   },
   "outputs": [
    {
     "name": "stdout",
     "output_type": "stream",
     "text": [
      "[3.68275108 1.56559163 1.11155273]\n",
      "[[ 1.02574437 -0.0261549   0.10386931  0.58729012  0.20996918 -0.13218179\n",
      "   0.04130905 -0.04130905]\n",
      " [-0.0261549   1.01246026  0.02346026  0.21069361 -0.08880453 -0.24403555\n",
      "   0.10148339 -0.10148339]\n",
      " [ 0.10386931  0.02346026  0.7038134  -0.01977714 -0.37873991  0.41684676\n",
      "  -0.50183552  0.50183552]\n",
      " [ 0.58729012  0.21069361 -0.01977714  1.0070786   0.30796346 -0.37251866\n",
      "   0.26393069 -0.26393069]\n",
      " [ 0.20996918 -0.08880453 -0.37873991  0.30796346  0.94640889 -0.57097141\n",
      "   0.64118387 -0.64118387]\n",
      " [-0.13218179 -0.24403555  0.41684676 -0.37251866 -0.57097141  1.09650185\n",
      "  -0.75123848  0.75123848]\n",
      " [ 0.04130905  0.10148339 -0.50183552  0.26393069  0.64118387 -0.75123848\n",
      "   1.18399632 -0.82397541]\n",
      " [-0.04130905 -0.10148339  0.50183552 -0.26393069 -0.64118387  0.75123848\n",
      "  -0.82397541  1.18399632]]\n",
      "0.7793989503809176\n"
     ]
    }
   ],
   "source": [
    "\n",
    "# explained_variance_ratio_ : les valeurs propres des composantes principale. (valeurs propres)\n",
    "print ( pca_var.explained_variance_ )\n",
    "\n",
    "# get_covariance() : calculer les covariances à partir de la matrice de données.\n",
    "print ( pca_var.get_covariance() )\n",
    "\n",
    "# explained_variance_ratio_ : array avec les proportions de variance associées aux axes. (combien il porte d'informations)\n",
    "\n",
    "# les 3 premiers vecteurs propres représentent 77% de l’information disponible , ils seront conservés\n",
    "print ( pca_var.explained_variance_ratio_[:3].sum() )\n",
    "\n",
    "\n"
   ]
  },
  {
   "cell_type": "markdown",
   "id": "turkish-triple",
   "metadata": {},
   "source": [
    "<h2 style=\"text-align:center;color:#fca103\">Graphiques des valeurs propres</h2><br/>"
   ]
  },
  {
   "cell_type": "code",
   "execution_count": 9,
   "id": "seven-weight",
   "metadata": {
    "scrolled": true
   },
   "outputs": [
    {
     "data": {
      "image/png": "[encoded data removed]",
      "text/plain": [
       "<Figure size 432x288 with 1 Axes>"
      ]
     },
     "metadata": {
      "needs_background": "light"
     },
     "output_type": "display_data"
    }
   ],
   "source": [
    "# les valeurs propres\n",
    "per_var = np.round(pca_var.explained_variance_ratio_,decimals=1)\n",
    "\n",
    "# création des étiquettes pour les composantes principales\n",
    "labels = ['PC' + str(x) for x in range( 1 , len(per_var) +1 ) ]\n",
    "\n",
    "# création du graphe\n",
    "plt.bar( x=range( 1,len(per_var)+1 ), height=per_var, tick_label=labels)\n",
    "plt.ylabel('Valeurs propres')\n",
    "plt.xlabel('Composantes principales')\n",
    "plt.title('Graphe')\n",
    "plt.show()\n",
    "\n",
    "\n"
   ]
  },
  {
   "cell_type": "markdown",
   "id": "offshore-resort",
   "metadata": {},
   "source": [
    "<h2 style=\"text-align:center;color:#fca103\">Étiquetage et renommage des composantes</h2><br/>\n"
   ]
  },
  {
   "cell_type": "code",
   "execution_count": 10,
   "id": "occupied-florence",
   "metadata": {
    "scrolled": true
   },
   "outputs": [],
   "source": [
    "\n",
    "pca = pd.DataFrame(pca[:, :3], index=demographic_data.index)\n",
    "pca.rename(columns={0:'c1',1:'c2',2:'c3'}, inplace=True)\n"
   ]
  },
  {
   "cell_type": "code",
   "execution_count": 11,
   "id": "charged-standard",
   "metadata": {
    "scrolled": true
   },
   "outputs": [
    {
     "data": {
      "text/html": [
       "<div>\n",
       "<style scoped>\n",
       "    .dataframe tbody tr th:only-of-type {\n",
       "        vertical-align: middle;\n",
       "    }\n",
       "\n",
       "    .dataframe tbody tr th {\n",
       "        vertical-align: top;\n",
       "    }\n",
       "\n",
       "    .dataframe thead th {\n",
       "        text-align: right;\n",
       "    }\n",
       "</style>\n",
       "<table border=\"1\" class=\"dataframe\">\n",
       "  <thead>\n",
       "    <tr style=\"text-align: right;\">\n",
       "      <th></th>\n",
       "      <th>c1</th>\n",
       "      <th>c2</th>\n",
       "      <th>c3</th>\n",
       "    </tr>\n",
       "  </thead>\n",
       "  <tbody>\n",
       "    <tr>\n",
       "      <th>c1</th>\n",
       "      <td>1.0</td>\n",
       "      <td>-0.0</td>\n",
       "      <td>-0.0</td>\n",
       "    </tr>\n",
       "    <tr>\n",
       "      <th>c2</th>\n",
       "      <td>-0.0</td>\n",
       "      <td>1.0</td>\n",
       "      <td>-0.0</td>\n",
       "    </tr>\n",
       "    <tr>\n",
       "      <th>c3</th>\n",
       "      <td>-0.0</td>\n",
       "      <td>-0.0</td>\n",
       "      <td>1.0</td>\n",
       "    </tr>\n",
       "  </tbody>\n",
       "</table>\n",
       "</div>"
      ],
      "text/plain": [
       "     c1   c2   c3\n",
       "c1  1.0 -0.0 -0.0\n",
       "c2 -0.0  1.0 -0.0\n",
       "c3 -0.0 -0.0  1.0"
      ]
     },
     "execution_count": 11,
     "metadata": {},
     "output_type": "execute_result"
    }
   ],
   "source": [
    "\n",
    "# on voit que les 3 vecteurs sont orthogonaux\n",
    "np.round(pca.corr(), 2)\n"
   ]
  },
  {
   "cell_type": "markdown",
   "id": "amazing-mexican",
   "metadata": {},
   "source": [
    "<h2 style=\"text-align:center;color:#fca103\">Interprétation des composantes</h2><br/>"
   ]
  },
  {
   "cell_type": "markdown",
   "id": "labeled-basketball",
   "metadata": {},
   "source": [
    "<h5 style=\"text-align:left;color:#fca103\">Composante une</h5><br/>\n"
   ]
  },
  {
   "cell_type": "code",
   "execution_count": 12,
   "id": "advisory-enterprise",
   "metadata": {
    "scrolled": true
   },
   "outputs": [
    {
     "data": {
      "text/plain": [
       "Pop < 65 ans                           0.487739\n",
       "Taux de naissance                      0.396280\n",
       "Immigration internationale nette       0.239104\n",
       "Population totale                      0.110760\n",
       "Immigration domestique nette           0.081578\n",
       "Américains migrants avec l'étranger   -0.276615\n",
       "Taux de mortalité                     -0.463222\n",
       "Pop > 65 ans                          -0.487739\n",
       "dtype: float64"
      ]
     },
     "execution_count": 12,
     "metadata": {},
     "output_type": "execute_result"
    }
   ],
   "source": [
    "# copier les 3 composantes dans la variable vects\n",
    "vects = pca_var.components_[:3]\n",
    "\n",
    "# pd.Series : Tableau unidimensionnel avec des étiquettes d'axe\n",
    "one = pd.Series(vects[0], index=demographic_data.columns)\n",
    "one.sort_values(ascending=False)\n",
    "\n",
    "# ces valeurs representent la contribution des variables initiale à la construction des composantes principales"
   ]
  },
  {
   "cell_type": "markdown",
   "id": "recreational-composer",
   "metadata": {},
   "source": [
    "<h5 style=\"text-align:left;color:#fca103\">Composante deux</h5><br/>"
   ]
  },
  {
   "cell_type": "code",
   "execution_count": 13,
   "id": "signed-material",
   "metadata": {
    "scrolled": true
   },
   "outputs": [
    {
     "data": {
      "text/plain": [
       "Population totale                      0.688430\n",
       "Immigration internationale nette       0.614344\n",
       "Américains migrants avec l'étranger    0.265998\n",
       "Pop > 65 ans                           0.166779\n",
       "Immigration domestique nette           0.149021\n",
       "Taux de naissance                      0.006400\n",
       "Taux de mortalité                      0.003385\n",
       "Pop < 65 ans                          -0.166779\n",
       "dtype: float64"
      ]
     },
     "execution_count": 13,
     "metadata": {},
     "output_type": "execute_result"
    }
   ],
   "source": [
    "two = pd.Series(vects[1], index=demographic_data.columns)\n",
    "two.sort_values(ascending=False)"
   ]
  },
  {
   "cell_type": "markdown",
   "id": "collected-anderson",
   "metadata": {},
   "source": [
    "<h5 style=\"text-align:left;color:#fca103\">Composante trois</h5><br/>"
   ]
  },
  {
   "cell_type": "code",
   "execution_count": 14,
   "id": "unusual-charter",
   "metadata": {
    "scrolled": true
   },
   "outputs": [
    {
     "data": {
      "text/plain": [
       "Immigration domestique nette           0.896158\n",
       "Américains migrants avec l'étranger    0.075209\n",
       "Immigration internationale nette       0.052728\n",
       "Pop > 65 ans                           0.001130\n",
       "Pop < 65 ans                          -0.001130\n",
       "Taux de mortalité                     -0.176813\n",
       "Population totale                     -0.267053\n",
       "Taux de naissance                     -0.293056\n",
       "dtype: float64"
      ]
     },
     "execution_count": 14,
     "metadata": {},
     "output_type": "execute_result"
    }
   ],
   "source": [
    "three = pd.Series(vects[2], index=demographic_data.columns)\n",
    "three.sort_values(ascending=False)"
   ]
  },
  {
   "cell_type": "code",
   "execution_count": null,
   "id": "indie-intention",
   "metadata": {},
   "outputs": [],
   "source": []
  }
 ],
 "metadata": {
  "kernelspec": {
   "display_name": "Python 3",
   "language": "python",
   "name": "python3"
  },
  "language_info": {
   "codemirror_mode": {
    "name": "ipython",
    "version": 3
   },
   "file_extension": ".py",
   "mimetype": "text/x-python",
   "name": "python",
   "nbconvert_exporter": "python",
   "pygments_lexer": "ipython3",
   "version": "3.8.7"
  }
 },
 "nbformat": 4,
 "nbformat_minor": 5
}
