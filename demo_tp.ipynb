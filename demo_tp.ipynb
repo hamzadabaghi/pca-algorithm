{
 "cells": [
  {
   "cell_type": "markdown",
   "id": "friendly-apollo",
   "metadata": {},
   "source": [
    "<h4 style=\"text-align:left;color:#5c5828\">Authors </h4>\n",
    "<h4 style=\"text-align:left;color:#5c5828\">-------------------------------------------</h4>\n",
    "<h5 style=\"text-align:left;color:#2d1d40\">@ Hamza Dabaghi</h6>\n",
    "<h5 style=\"text-align:left;color:#2d1d40\">@ Firass Mohammed</h6>\n",
    "<h5 style=\"text-align:left;color:#2d1d40\">@ Yasmine Lhore</h6>\n",
    "<h4 style=\"text-align:left;color:#5c5828\">-------------------------------------------</h4>\n",
    "\n",
    "<br/><br/>"
   ]
  },
  {
   "cell_type": "markdown",
   "id": "active-colonial",
   "metadata": {},
   "source": [
    "<h2 style=\"text-align:center;color:#fca103\">Importation de Librairies</h2><br/>"
   ]
  },
  {
   "cell_type": "code",
   "execution_count": null,
   "id": "welcome-trance",
   "metadata": {
    "scrolled": true
   },
   "outputs": [],
   "source": [
    "\n",
    "# pandas : panel data , pour une facile manipulation des données.\n",
    "import pandas as pd \n",
    "\n",
    "# numpy : numerical python extensions , pour la manipulation de tableaux et les opérations mathématiques.\n",
    "import numpy as np\n",
    "\n",
    "# decomposition : Package pour l'analyse en composantes principales de scikit learn.\n",
    "from sklearn.decomposition import PCA\n",
    "\n",
    "# preprocessing : package pour centrer et normaliser les données avant d'effectuer l'ACP.\n",
    "from sklearn.preprocessing import StandardScaler\n",
    "\n",
    "# matplotlib : pour dessiner des graphiques, des tracés ...\n",
    "import matplotlib.pyplot as plt\n"
   ]
  },
  {
   "cell_type": "markdown",
   "id": "defensive-struggle",
   "metadata": {},
   "source": [
    "<h2 style=\"text-align:center;color:#fca103\">Importation de données</h2><br/>"
   ]
  },
  {
   "cell_type": "code",
   "execution_count": null,
   "id": "universal-overall",
   "metadata": {
    "scrolled": true
   },
   "outputs": [],
   "source": [
    "\n",
    "# importer les données de notre fichier dataset demo.\n",
    "demographic_data = pd.read_csv(\"./demo_dt.csv\")\n",
    "\n",
    "# informations sur les données\n",
    "demographic_data.info()\n"
   ]
  },
  {
   "cell_type": "markdown",
   "id": "smooth-little",
   "metadata": {},
   "source": [
    "<h2 style=\"text-align:center;color:#fca103\">Vérification</h2><br/>"
   ]
  },
  {
   "cell_type": "code",
   "execution_count": null,
   "id": "victorian-print",
   "metadata": {
    "scrolled": true
   },
   "outputs": [],
   "source": [
    "\n",
    "# La méthode Head renvoie les 5 premières lignes de données\n",
    "print( demographic_data.head() )\n"
   ]
  },
  {
   "cell_type": "code",
   "execution_count": null,
   "id": "aging-digest",
   "metadata": {
    "scrolled": true
   },
   "outputs": [],
   "source": [
    "\n",
    "# L'attribut shape renvoie les dimensions de notre demographic_data\n",
    "print( demographic_data.shape )\n",
    "\n",
    "# il y a 51 échantillons et 8 variables, (Etat : étiquette )\n"
   ]
  },
  {
   "cell_type": "markdown",
   "id": "labeled-liverpool",
   "metadata": {},
   "source": [
    "<h2 style=\"text-align:center;color:#fca103\">Prétraitement</h2><br/>"
   ]
  },
  {
   "cell_type": "code",
   "execution_count": null,
   "id": "engaged-rachel",
   "metadata": {
    "scrolled": false
   },
   "outputs": [],
   "source": [
    "\n",
    "# séparation des variables non numériques\n",
    "\n",
    "\n",
    "# l'index pour les données , inplace(true): modifie le meme objet DataFrame sans créer un autre modifié.\n",
    "demographic_data.set_index('Etat', inplace=True)\n",
    "print(  demographic_data.head()  )\n"
   ]
  },
  {
   "cell_type": "markdown",
   "id": "diagnostic-florence",
   "metadata": {},
   "source": [
    "<h2 style=\"text-align:center;color:#fca103\">Normalisation</h2><br/>"
   ]
  },
  {
   "cell_type": "code",
   "execution_count": null,
   "id": "pressing-partner",
   "metadata": {
    "scrolled": true
   },
   "outputs": [],
   "source": [
    "\n",
    "# normalisation et centrage des données\n",
    "# moyenne =0, variance=1, les échantillons doivent être des lignes sinon vous devez les transposer (demographic_data.T)\n",
    "\n",
    "scaled_demographic_data = StandardScaler().fit_transform(demographic_data)\n",
    "\n",
    "# round , 2 chiffres significatifs\n",
    "print (\" moyenne : \", np.round(scaled_demographic_data.mean(), 2))\n",
    "print (\" variance : \", np.round(scaled_demographic_data.std(), 2))\n"
   ]
  },
  {
   "cell_type": "markdown",
   "id": "generous-lecture",
   "metadata": {},
   "source": [
    "<h2 style=\"text-align:center;color:#fca103\">ACP</h2><br/>"
   ]
  },
  {
   "cell_type": "code",
   "execution_count": null,
   "id": "rural-atlantic",
   "metadata": {
    "scrolled": true
   },
   "outputs": [],
   "source": [
    "\n",
    "# instanciation d'un objet ACP à entraîner avec notre jeu de données , nombre de composantes à garder : 3\n",
    "pca_var = PCA(n_components=3)\n",
    "pca=pca_var.fit_transform(scaled_demographic_data)\n"
   ]
  },
  {
   "cell_type": "code",
   "execution_count": null,
   "id": "simplified-thread",
   "metadata": {
    "scrolled": true
   },
   "outputs": [],
   "source": [
    "\n",
    "# explained_variance_ratio_ : les valeurs propres des composantes principale. (valeurs propres)\n",
    "print ( pca_var.explained_variance_ratio_ )\n",
    "\n",
    "# les 3 premiers vecteurs propres représentent 77% de la variance , ils seront conservés\n",
    "print ( pca_var.explained_variance_ratio_[:3].sum() )\n",
    "\n",
    "\n"
   ]
  },
  {
   "cell_type": "markdown",
   "id": "turkish-triple",
   "metadata": {},
   "source": [
    "<h2 style=\"text-align:center;color:#fca103\">Graphiques des valeurs propres</h2><br/>"
   ]
  },
  {
   "cell_type": "code",
   "execution_count": null,
   "id": "seven-weight",
   "metadata": {
    "scrolled": true
   },
   "outputs": [],
   "source": [
    "# les valeurs propres\n",
    "per_var = np.round(pca_var.explained_variance_ratio_,decimals=1)\n",
    "\n",
    "# création des étiquettes pour les composantes principales\n",
    "labels = ['PC' + str(x) for x in range( 1 , len(per_var) +1 ) ]\n",
    "\n",
    "# création du graphe\n",
    "plt.bar( x=range( 1,len(per_var)+1 ), height=per_var, tick_label=labels)\n",
    "plt.ylabel('Valeurs propres')\n",
    "plt.xlabel('Composantes principales')\n",
    "plt.title('Graphe')\n",
    "plt.show()\n",
    "\n",
    "\n"
   ]
  },
  {
   "cell_type": "markdown",
   "id": "offshore-resort",
   "metadata": {},
   "source": [
    "<h2 style=\"text-align:center;color:#fca103\">Étiquetage et renommage des composantes</h2><br/>\n"
   ]
  },
  {
   "cell_type": "code",
   "execution_count": null,
   "id": "occupied-florence",
   "metadata": {
    "scrolled": true
   },
   "outputs": [],
   "source": [
    "\n",
    "pca = pd.DataFrame(pca[:, :3], index=demographic_data.index)\n",
    "pca.rename(columns={0:'c1',1:'c2',2:'c3'}, inplace=True)\n"
   ]
  },
  {
   "cell_type": "code",
   "execution_count": null,
   "id": "charged-standard",
   "metadata": {
    "scrolled": true
   },
   "outputs": [],
   "source": [
    "\n",
    "# on voit que les 3 vecteurs sont orthogonaux\n",
    "np.round(pca.corr(), 2)\n"
   ]
  },
  {
   "cell_type": "markdown",
   "id": "amazing-mexican",
   "metadata": {},
   "source": [
    "<h2 style=\"text-align:center;color:#fca103\">Interprétation des composantes</h2><br/>"
   ]
  },
  {
   "cell_type": "markdown",
   "id": "labeled-basketball",
   "metadata": {},
   "source": [
    "<h5 style=\"text-align:left;color:#fca103\">Composante une</h5><br/>\n"
   ]
  },
  {
   "cell_type": "code",
   "execution_count": null,
   "id": "advisory-enterprise",
   "metadata": {
    "scrolled": true
   },
   "outputs": [],
   "source": [
    "# copier les 3 composantes dans la variable vects\n",
    "vects = pca_var.components_[:3]\n",
    "one = pd.Series(vects[0], index=demographic_data.columns)\n",
    "one.sort_values(ascending=False)"
   ]
  },
  {
   "cell_type": "markdown",
   "id": "recreational-composer",
   "metadata": {},
   "source": [
    "<h5 style=\"text-align:left;color:#fca103\">Composante deux</h5><br/>"
   ]
  },
  {
   "cell_type": "code",
   "execution_count": null,
   "id": "signed-material",
   "metadata": {
    "scrolled": true
   },
   "outputs": [],
   "source": [
    "two = pd.Series(vects[1], index=demographic_data.columns)\n",
    "two.sort_values(ascending=False)"
   ]
  },
  {
   "cell_type": "markdown",
   "id": "collected-anderson",
   "metadata": {},
   "source": [
    "<h5 style=\"text-align:left;color:#fca103\">Composante trois</h5><br/>"
   ]
  },
  {
   "cell_type": "code",
   "execution_count": null,
   "id": "unusual-charter",
   "metadata": {
    "scrolled": true
   },
   "outputs": [],
   "source": [
    "three = pd.Series(vects[2], index=demographic_data.columns)\n",
    "three.sort_values(ascending=False)"
   ]
  },
  {
   "cell_type": "code",
   "execution_count": null,
   "id": "indie-intention",
   "metadata": {},
   "outputs": [],
   "source": []
  }
 ],
 "metadata": {
  "kernelspec": {
   "display_name": "Python 3",
   "language": "python",
   "name": "python3"
  },
  "language_info": {
   "codemirror_mode": {
    "name": "ipython",
    "version": 3
   },
   "file_extension": ".py",
   "mimetype": "text/x-python",
   "name": "python",
   "nbconvert_exporter": "python",
   "pygments_lexer": "ipython3",
   "version": "3.8.7"
  }
 },
 "nbformat": 4,
 "nbformat_minor": 5
}
